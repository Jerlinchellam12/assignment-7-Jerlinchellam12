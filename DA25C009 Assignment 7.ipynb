{
 "cells": [
  {
   "cell_type": "markdown",
   "id": "303fd890-b7d7-46fe-a54c-d6cbb65fa802",
   "metadata": {},
   "source": [
    "# Assignment 7\n",
    "# Multi-Class Model Selection using ROC and Precision-Recall Curves\n",
    "\n",
    "### Jerlin Chellam J\n",
    "#### DA25C009"
   ]
  },
  {
   "cell_type": "markdown",
   "id": "8e5615a0-914e-4bf9-a800-10a0a64414bc",
   "metadata": {},
   "source": [
    "## Introduction\n",
    "\n",
    "In this, I took on the role of a machine learning scientist tasked with classifying different land cover types using satellite image data. The dataset I worked with is the UCI Landsat Satellite dataset, a well-known multi-class classification problem with six distinct classes. What makes this task challenging is its high feature dimensionality and the overlap between classes, which makes it difficult for models to cleanly separate one land type from another.\n",
    "\n",
    "The main goal of this analysis is to perform model selection and comparing various classifiers to identify which performs best and which struggles under complex decision boundaries. Instead of relying solely on accuracy, I used Receiver Operating Characteristic (ROC) and Precision-Recall (PRC) curves to gain a deeper understanding of model performance across varying thresholds. These visual tools are especially powerful in a multi-class setup, where I applied one-vs-rest averaging to fairly evaluate each model’s ability to distinguish each class.\n",
    "\n",
    "Through the following codes, explanations, and my observations, we’ll explore how different models handle this challenging dataset and by the end, we’ll clearly see which classifier emerges as the most reliable and which falls behind."
   ]
  },
  {
   "cell_type": "markdown",
   "id": "dd80995d-8be3-433b-922a-973e5ac35e37",
   "metadata": {},
   "source": [
    "## PART A\n",
    "### Data Preparation and Baseline\n",
    "\n",
    "#### Load and Prepare Data"
   ]
  },
  {
   "cell_type": "markdown",
   "id": "c4bb2ee6-0fe6-48c1-81f5-7ad59a211d31",
   "metadata": {},
   "source": [
    "As usual loading the important libraries"
   ]
  },
  {
   "cell_type": "code",
   "execution_count": 1,
   "id": "f2235fe3-7e3a-450d-a162-8830fe7e9094",
   "metadata": {},
   "outputs": [],
   "source": [
    "import numpy as np\n",
    "import pandas as pd\n",
    "import matplotlib.pyplot as plt"
   ]
  },
  {
   "cell_type": "markdown",
   "id": "33134889-f3fa-4990-a2ad-9e03ae0d8a93",
   "metadata": {},
   "source": [
    "Since the downloaded dataset have separate train and test data, I'm going to combine them and split them later"
   ]
  },
  {
   "cell_type": "code",
   "execution_count": 2,
   "id": "327bc445-0b65-4bf7-8f86-5b7fa837d035",
   "metadata": {},
   "outputs": [],
   "source": [
    "train_file = \"sat.trn\"\n",
    "test_file = \"sat.tst\""
   ]
  },
  {
   "cell_type": "code",
   "execution_count": 3,
   "id": "dc1035ea-f148-43d6-bef8-53653b611064",
   "metadata": {},
   "outputs": [
    {
     "name": "stdout",
     "output_type": "stream",
     "text": [
      "Train data shape: (4435, 37)\n",
      "Test data shape: (2000, 37)\n"
     ]
    }
   ],
   "source": [
    "columns = [f\"f{i}\" for i in range(36)] + [\"label\"]\n",
    "\n",
    "# Loading both text files\n",
    "df_train = pd.read_csv(train_file, sep=r'\\s+', header=None, names=columns)\n",
    "df_test  = pd.read_csv(test_file,  sep=r'\\s+', header=None, names=columns)\n",
    "\n",
    "print(\"Train data shape:\", df_train.shape)\n",
    "print(\"Test data shape:\", df_test.shape)"
   ]
  },
  {
   "cell_type": "markdown",
   "id": "b82bcc5e-bb15-47b8-a642-4ef9b887e511",
   "metadata": {},
   "source": [
    "I'm here storing the combined full dataset as csv file"
   ]
  },
  {
   "cell_type": "code",
   "execution_count": 4,
   "id": "795fd70f-8e4b-4ac4-8489-1e650e0c3bc5",
   "metadata": {},
   "outputs": [],
   "source": [
    "# Combining both datasets \n",
    "df_combined = pd.concat([df_train, df_test], ignore_index=True)\n",
    "\n",
    "# Saving both the original and combined datasets to csv\n",
    "df_train.to_csv(\"landsat_train.csv\", index=False)\n",
    "df_test.to_csv(\"landsat_test.csv\", index=False)\n",
    "df_combined.to_csv(\"landsat_full.csv\", index=False)"
   ]
  },
  {
   "cell_type": "code",
   "execution_count": 5,
   "id": "236f98a2-5ef4-47d0-88cd-2bd7c9ee1ae9",
   "metadata": {},
   "outputs": [
    {
     "data": {
      "text/html": [
       "<div>\n",
       "<style scoped>\n",
       "    .dataframe tbody tr th:only-of-type {\n",
       "        vertical-align: middle;\n",
       "    }\n",
       "\n",
       "    .dataframe tbody tr th {\n",
       "        vertical-align: top;\n",
       "    }\n",
       "\n",
       "    .dataframe thead th {\n",
       "        text-align: right;\n",
       "    }\n",
       "</style>\n",
       "<table border=\"1\" class=\"dataframe\">\n",
       "  <thead>\n",
       "    <tr style=\"text-align: right;\">\n",
       "      <th></th>\n",
       "      <th>f0</th>\n",
       "      <th>f1</th>\n",
       "      <th>f2</th>\n",
       "      <th>f3</th>\n",
       "      <th>f4</th>\n",
       "      <th>f5</th>\n",
       "      <th>f6</th>\n",
       "      <th>f7</th>\n",
       "      <th>f8</th>\n",
       "      <th>f9</th>\n",
       "      <th>...</th>\n",
       "      <th>f27</th>\n",
       "      <th>f28</th>\n",
       "      <th>f29</th>\n",
       "      <th>f30</th>\n",
       "      <th>f31</th>\n",
       "      <th>f32</th>\n",
       "      <th>f33</th>\n",
       "      <th>f34</th>\n",
       "      <th>f35</th>\n",
       "      <th>label</th>\n",
       "    </tr>\n",
       "  </thead>\n",
       "  <tbody>\n",
       "    <tr>\n",
       "      <th>0</th>\n",
       "      <td>92</td>\n",
       "      <td>115</td>\n",
       "      <td>120</td>\n",
       "      <td>94</td>\n",
       "      <td>84</td>\n",
       "      <td>102</td>\n",
       "      <td>106</td>\n",
       "      <td>79</td>\n",
       "      <td>84</td>\n",
       "      <td>102</td>\n",
       "      <td>...</td>\n",
       "      <td>104</td>\n",
       "      <td>88</td>\n",
       "      <td>121</td>\n",
       "      <td>128</td>\n",
       "      <td>100</td>\n",
       "      <td>84</td>\n",
       "      <td>107</td>\n",
       "      <td>113</td>\n",
       "      <td>87</td>\n",
       "      <td>3</td>\n",
       "    </tr>\n",
       "    <tr>\n",
       "      <th>1</th>\n",
       "      <td>84</td>\n",
       "      <td>102</td>\n",
       "      <td>106</td>\n",
       "      <td>79</td>\n",
       "      <td>84</td>\n",
       "      <td>102</td>\n",
       "      <td>102</td>\n",
       "      <td>83</td>\n",
       "      <td>80</td>\n",
       "      <td>102</td>\n",
       "      <td>...</td>\n",
       "      <td>100</td>\n",
       "      <td>84</td>\n",
       "      <td>107</td>\n",
       "      <td>113</td>\n",
       "      <td>87</td>\n",
       "      <td>84</td>\n",
       "      <td>99</td>\n",
       "      <td>104</td>\n",
       "      <td>79</td>\n",
       "      <td>3</td>\n",
       "    </tr>\n",
       "    <tr>\n",
       "      <th>2</th>\n",
       "      <td>84</td>\n",
       "      <td>102</td>\n",
       "      <td>102</td>\n",
       "      <td>83</td>\n",
       "      <td>80</td>\n",
       "      <td>102</td>\n",
       "      <td>102</td>\n",
       "      <td>79</td>\n",
       "      <td>84</td>\n",
       "      <td>94</td>\n",
       "      <td>...</td>\n",
       "      <td>87</td>\n",
       "      <td>84</td>\n",
       "      <td>99</td>\n",
       "      <td>104</td>\n",
       "      <td>79</td>\n",
       "      <td>84</td>\n",
       "      <td>99</td>\n",
       "      <td>104</td>\n",
       "      <td>79</td>\n",
       "      <td>3</td>\n",
       "    </tr>\n",
       "    <tr>\n",
       "      <th>3</th>\n",
       "      <td>80</td>\n",
       "      <td>102</td>\n",
       "      <td>102</td>\n",
       "      <td>79</td>\n",
       "      <td>84</td>\n",
       "      <td>94</td>\n",
       "      <td>102</td>\n",
       "      <td>79</td>\n",
       "      <td>80</td>\n",
       "      <td>94</td>\n",
       "      <td>...</td>\n",
       "      <td>79</td>\n",
       "      <td>84</td>\n",
       "      <td>99</td>\n",
       "      <td>104</td>\n",
       "      <td>79</td>\n",
       "      <td>84</td>\n",
       "      <td>103</td>\n",
       "      <td>104</td>\n",
       "      <td>79</td>\n",
       "      <td>3</td>\n",
       "    </tr>\n",
       "    <tr>\n",
       "      <th>4</th>\n",
       "      <td>84</td>\n",
       "      <td>94</td>\n",
       "      <td>102</td>\n",
       "      <td>79</td>\n",
       "      <td>80</td>\n",
       "      <td>94</td>\n",
       "      <td>98</td>\n",
       "      <td>76</td>\n",
       "      <td>80</td>\n",
       "      <td>102</td>\n",
       "      <td>...</td>\n",
       "      <td>79</td>\n",
       "      <td>84</td>\n",
       "      <td>103</td>\n",
       "      <td>104</td>\n",
       "      <td>79</td>\n",
       "      <td>79</td>\n",
       "      <td>107</td>\n",
       "      <td>109</td>\n",
       "      <td>87</td>\n",
       "      <td>3</td>\n",
       "    </tr>\n",
       "  </tbody>\n",
       "</table>\n",
       "<p>5 rows × 37 columns</p>\n",
       "</div>"
      ],
      "text/plain": [
       "   f0   f1   f2  f3  f4   f5   f6  f7  f8   f9  ...  f27  f28  f29  f30  f31  \\\n",
       "0  92  115  120  94  84  102  106  79  84  102  ...  104   88  121  128  100   \n",
       "1  84  102  106  79  84  102  102  83  80  102  ...  100   84  107  113   87   \n",
       "2  84  102  102  83  80  102  102  79  84   94  ...   87   84   99  104   79   \n",
       "3  80  102  102  79  84   94  102  79  80   94  ...   79   84   99  104   79   \n",
       "4  84   94  102  79  80   94   98  76  80  102  ...   79   84  103  104   79   \n",
       "\n",
       "   f32  f33  f34  f35  label  \n",
       "0   84  107  113   87      3  \n",
       "1   84   99  104   79      3  \n",
       "2   84   99  104   79      3  \n",
       "3   84  103  104   79      3  \n",
       "4   79  107  109   87      3  \n",
       "\n",
       "[5 rows x 37 columns]"
      ]
     },
     "execution_count": 5,
     "metadata": {},
     "output_type": "execute_result"
    }
   ],
   "source": [
    "df_combined.head()"
   ]
  },
  {
   "cell_type": "code",
   "execution_count": 6,
   "id": "73c57ac3-91c8-4815-9bf8-5c79cb1c2483",
   "metadata": {},
   "outputs": [
    {
     "name": "stdout",
     "output_type": "stream",
     "text": [
      "label\n",
      "1    1533\n",
      "2     703\n",
      "3    1358\n",
      "4     626\n",
      "5     707\n",
      "7    1508\n",
      "Name: count, dtype: int64\n"
     ]
    }
   ],
   "source": [
    "# number of samples per class\n",
    "print(df_combined['label'].value_counts().sort_index())"
   ]
  },
  {
   "cell_type": "markdown",
   "id": "138173b0-f88c-4ad3-a281-bc24b229ad43",
   "metadata": {},
   "source": [
    "#### Standardize the features (X), But why we Standardize?\n",
    "- StandardScaler() subtracts the mean and divides by the standard deviation for each feature.\n",
    "\n",
    "- After standardization, every feature will have mean = 0 and standard deviation = 1, which helps many ML models perform better."
   ]
  },
  {
   "cell_type": "code",
   "execution_count": 7,
   "id": "10ee24ef-9be2-4570-839f-efa7007882f4",
   "metadata": {},
   "outputs": [
    {
     "name": "stdout",
     "output_type": "stream",
     "text": [
      "Features standardized successfully\n"
     ]
    }
   ],
   "source": [
    "from sklearn.preprocessing import StandardScaler\n",
    "\n",
    "# Separating features and labels\n",
    "X = df_combined.drop('label', axis=1)\n",
    "y = df_combined['label']\n",
    "\n",
    "scaler = StandardScaler()\n",
    "\n",
    "X_scaled = scaler.fit_transform(X)\n",
    "X_scaled = pd.DataFrame(X_scaled, columns=X.columns)\n",
    "\n",
    "print(\"Features standardized successfully\")"
   ]
  },
  {
   "cell_type": "markdown",
   "id": "a88f9350-d94e-48db-9721-996b91ff11ed",
   "metadata": {},
   "source": [
    "Now I'm spliting the data into training and testing sets"
   ]
  },
  {
   "cell_type": "code",
   "execution_count": 8,
   "id": "f8d6e13d-da0e-48a5-bf7a-f382a77a881d",
   "metadata": {},
   "outputs": [
    {
     "name": "stdout",
     "output_type": "stream",
     "text": [
      "Training set size: (5148, 36)\n",
      "Testing set size: (1287, 36)\n"
     ]
    }
   ],
   "source": [
    "from sklearn.model_selection import train_test_split\n",
    "\n",
    "# Spliting the data into 80% training and 20% testing\n",
    "X_train, X_test, y_train, y_test = train_test_split(\n",
    "    X_scaled, y, test_size=0.2, random_state=42, stratify=y\n",
    ")\n",
    "\n",
    "print(\"Training set size:\", X_train.shape)\n",
    "print(\"Testing set size:\", X_test.shape)"
   ]
  },
  {
   "cell_type": "markdown",
   "id": "663e1e1d-8ff1-4f46-beeb-bedf163ec137",
   "metadata": {},
   "source": [
    "## Train All Models\n",
    "There are 6 models given to train, so now I will train all these model and let's see if I can able reach the Performance Expectation of each model\n",
    "\n",
    "### 1. K-Nearest Neighbors(KNN)"
   ]
  },
  {
   "cell_type": "code",
   "execution_count": 9,
   "id": "2e664b9e-84d7-473a-9423-8fba68b6581a",
   "metadata": {},
   "outputs": [
    {
     "name": "stdout",
     "output_type": "stream",
     "text": [
      "KNN Accuracy: 0.9114\n"
     ]
    }
   ],
   "source": [
    "from sklearn.neighbors import KNeighborsClassifier\n",
    "from sklearn.metrics import accuracy_score, classification_report, confusion_matrix\n",
    "\n",
    "# Initialize\n",
    "knn = KNeighborsClassifier(n_neighbors=5)\n",
    "\n",
    "# fit\n",
    "knn.fit(X_train, y_train)\n",
    "\n",
    "# Predict \n",
    "y_pred = knn.predict(X_test)\n",
    "\n",
    "# Evaluate the model\n",
    "acc = accuracy_score(y_test, y_pred)\n",
    "print(\"KNN Accuracy:\", round(acc, 4))"
   ]
  },
  {
   "cell_type": "code",
   "execution_count": 10,
   "id": "fbe8eb31-ad0c-4e15-b753-3f9eb2d383e6",
   "metadata": {},
   "outputs": [
    {
     "name": "stdout",
     "output_type": "stream",
     "text": [
      "\n",
      "Classification Report:\n",
      "               precision    recall  f1-score   support\n",
      "\n",
      "           1       0.96      0.99      0.97       307\n",
      "           2       0.98      0.96      0.97       141\n",
      "           3       0.87      0.96      0.91       272\n",
      "           4       0.74      0.62      0.68       125\n",
      "           5       0.95      0.89      0.92       141\n",
      "           7       0.91      0.89      0.90       301\n",
      "\n",
      "    accuracy                           0.91      1287\n",
      "   macro avg       0.90      0.89      0.89      1287\n",
      "weighted avg       0.91      0.91      0.91      1287\n",
      "\n",
      "\n",
      "Confusion Matrix:\n",
      " [[304   0   3   0   0   0]\n",
      " [  0 136   0   1   2   2]\n",
      " [  3   1 261   5   0   2]\n",
      " [  0   0  28  78   1  18]\n",
      " [ 10   2   0   0 126   3]\n",
      " [  0   0   8  21   4 268]]\n"
     ]
    }
   ],
   "source": [
    "print(\"\\nClassification Report:\\n\", classification_report(y_test, y_pred))\n",
    "\n",
    "# Confusion Matrix\n",
    "print(\"\\nConfusion Matrix:\\n\", confusion_matrix(y_test, y_pred))"
   ]
  },
  {
   "cell_type": "markdown",
   "id": "e4208160-8dc0-4cbc-8d81-5604d6bb4cb2",
   "metadata": {},
   "source": [
    "### 2. Decision Tree Classifier"
   ]
  },
  {
   "cell_type": "code",
   "execution_count": 11,
   "id": "89ffba8b-02c7-48fe-94f8-818878eb9f52",
   "metadata": {},
   "outputs": [
    {
     "name": "stdout",
     "output_type": "stream",
     "text": [
      "Decision Tree Accuracy: 0.8469\n"
     ]
    }
   ],
   "source": [
    "from sklearn.tree import DecisionTreeClassifier\n",
    "\n",
    "dt = DecisionTreeClassifier(random_state=42)\n",
    "\n",
    "# Train the model\n",
    "dt.fit(X_train, y_train)\n",
    "\n",
    "# Predict \n",
    "y_pred_dt = dt.predict(X_test)\n",
    "\n",
    "# Evaluate the model\n",
    "acc_dt = accuracy_score(y_test, y_pred_dt)\n",
    "print(\"Decision Tree Accuracy:\", round(acc_dt, 4))"
   ]
  },
  {
   "cell_type": "code",
   "execution_count": 12,
   "id": "f5c37c15-d4d9-4c37-8231-89975f701213",
   "metadata": {},
   "outputs": [
    {
     "name": "stdout",
     "output_type": "stream",
     "text": [
      "\n",
      "Classification Report:\n",
      "               precision    recall  f1-score   support\n",
      "\n",
      "           1       0.94      0.95      0.95       307\n",
      "           2       0.96      0.95      0.96       141\n",
      "           3       0.90      0.89      0.89       272\n",
      "           4       0.49      0.52      0.50       125\n",
      "           5       0.83      0.81      0.82       141\n",
      "           7       0.82      0.81      0.81       301\n",
      "\n",
      "    accuracy                           0.85      1287\n",
      "   macro avg       0.82      0.82      0.82      1287\n",
      "weighted avg       0.85      0.85      0.85      1287\n",
      "\n",
      "\n",
      "Confusion Matrix:\n",
      " [[292   0   5   3   4   3]\n",
      " [  1 134   0   1   3   2]\n",
      " [  3   1 241  20   1   6]\n",
      " [  1   1  20  65   3  35]\n",
      " [ 13   3   0   3 114   8]\n",
      " [  0   0   3  42  12 244]]\n"
     ]
    }
   ],
   "source": [
    "print(\"\\nClassification Report:\\n\", classification_report(y_test, y_pred_dt))\n",
    "print(\"\\nConfusion Matrix:\\n\", confusion_matrix(y_test, y_pred_dt))"
   ]
  },
  {
   "cell_type": "markdown",
   "id": "988854f9-6ed1-4a0f-9314-f16cf67f3c97",
   "metadata": {},
   "source": [
    "### 3. Dummy Classifier(Prior)\n",
    "- strategy='prior' -> The classifier always predicts the most frequent class from the training data, ignoring features entirely.\n",
    "\n",
    "- This gives a baseline performance it helps us see how much better our real models (like KNN and Decision Tree) perform compared to random guessing or class frequency.\n",
    "\n",
    "- As given the expected AUC < 0.5 for minority classes because it doesn’t actually learn any decision boundaries."
   ]
  },
  {
   "cell_type": "code",
   "execution_count": 13,
   "id": "51cd4311-2ed4-40f9-a175-406be3058a4d",
   "metadata": {},
   "outputs": [],
   "source": [
    "from sklearn.dummy import DummyClassifier"
   ]
  },
  {
   "cell_type": "code",
   "execution_count": 14,
   "id": "c1033367-8247-421f-8f1e-cb402b0b5513",
   "metadata": {},
   "outputs": [
    {
     "name": "stdout",
     "output_type": "stream",
     "text": [
      "Dummy Classifier (Prior) Accuracy: 0.2385\n"
     ]
    }
   ],
   "source": [
    "# Initializing Dummy Classifier with 'prior' strategy\n",
    "dummy = DummyClassifier(strategy='prior')\n",
    "\n",
    "# Train the model\n",
    "dummy.fit(X_train, y_train)\n",
    "\n",
    "# Predict on test data\n",
    "y_pred_dummy = dummy.predict(X_test)\n",
    "\n",
    "acc_dummy = accuracy_score(y_test, y_pred_dummy)\n",
    "print(\"Dummy Classifier (Prior) Accuracy:\", round(acc_dummy, 4))"
   ]
  },
  {
   "cell_type": "code",
   "execution_count": 15,
   "id": "bd3a5905-db7d-4867-bd1e-02786f6249ae",
   "metadata": {},
   "outputs": [
    {
     "name": "stdout",
     "output_type": "stream",
     "text": [
      "\n",
      "Classification Report:\n",
      "               precision    recall  f1-score   support\n",
      "\n",
      "           1       0.24      1.00      0.39       307\n",
      "           2       0.00      0.00      0.00       141\n",
      "           3       0.00      0.00      0.00       272\n",
      "           4       0.00      0.00      0.00       125\n",
      "           5       0.00      0.00      0.00       141\n",
      "           7       0.00      0.00      0.00       301\n",
      "\n",
      "    accuracy                           0.24      1287\n",
      "   macro avg       0.04      0.17      0.06      1287\n",
      "weighted avg       0.06      0.24      0.09      1287\n",
      "\n",
      "\n",
      "Confusion Matrix:\n",
      " [[307   0   0   0   0   0]\n",
      " [141   0   0   0   0   0]\n",
      " [272   0   0   0   0   0]\n",
      " [125   0   0   0   0   0]\n",
      " [141   0   0   0   0   0]\n",
      " [301   0   0   0   0   0]]\n"
     ]
    }
   ],
   "source": [
    "print(\"\\nClassification Report:\\n\", classification_report(y_test, y_pred_dummy, zero_division=0))\n",
    "print(\"\\nConfusion Matrix:\\n\", confusion_matrix(y_test, y_pred_dummy))"
   ]
  },
  {
   "cell_type": "markdown",
   "id": "ded48f39-6186-4cfc-84e4-80ada7ebc230",
   "metadata": {},
   "source": [
    "### 4. Logistic Regression"
   ]
  },
  {
   "cell_type": "code",
   "execution_count": 19,
   "id": "bec597e4-c0c2-4e02-96e0-92277417271c",
   "metadata": {},
   "outputs": [
    {
     "name": "stdout",
     "output_type": "stream",
     "text": [
      "Logistic Regression Accuracy: 0.8493\n"
     ]
    }
   ],
   "source": [
    "from sklearn.linear_model import LogisticRegression\n",
    "\n",
    "# Using 'lbfgs' solver (since it's good for multiclass)\n",
    "log_reg = LogisticRegression(solver='lbfgs', max_iter=1000, random_state=42)\n",
    "\n",
    "# Training the model\n",
    "log_reg.fit(X_train, y_train)\n",
    "\n",
    "# Prediction\n",
    "y_pred_log = log_reg.predict(X_test)\n",
    "\n",
    "acc_log = accuracy_score(y_test, y_pred_log)\n",
    "print(\"Logistic Regression Accuracy:\", round(acc_log, 4))"
   ]
  },
  {
   "cell_type": "code",
   "execution_count": 20,
   "id": "1e3147e8-6b2d-4c89-bfce-df6eba79ea79",
   "metadata": {},
   "outputs": [
    {
     "name": "stdout",
     "output_type": "stream",
     "text": [
      "\n",
      "Classification Report:\n",
      "               precision    recall  f1-score   support\n",
      "\n",
      "           1       0.93      0.97      0.95       307\n",
      "           2       0.98      0.93      0.96       141\n",
      "           3       0.85      0.94      0.89       272\n",
      "           4       0.52      0.36      0.42       125\n",
      "           5       0.83      0.74      0.78       141\n",
      "           7       0.81      0.86      0.83       301\n",
      "\n",
      "    accuracy                           0.85      1287\n",
      "   macro avg       0.82      0.80      0.81      1287\n",
      "weighted avg       0.84      0.85      0.84      1287\n",
      "\n",
      "\n",
      "Confusion Matrix:\n",
      " [[298   0   9   0   0   0]\n",
      " [  1 131   0   0   9   0]\n",
      " [  3   0 256  12   0   1]\n",
      " [  0   0  31  45   5  44]\n",
      " [ 17   2   0   1 105  16]\n",
      " [  0   0   6  29   8 258]]\n"
     ]
    }
   ],
   "source": [
    "print(\"\\nClassification Report:\\n\", classification_report(y_test, y_pred_log))\n",
    "print(\"\\nConfusion Matrix:\\n\", confusion_matrix(y_test, y_pred_log))"
   ]
  },
  {
   "cell_type": "markdown",
   "id": "5e75ae8e-4749-4de4-abed-0923908e8510",
   "metadata": {},
   "source": [
    "### 5. Naive Bayes(Gaussian)"
   ]
  },
  {
   "cell_type": "code",
   "execution_count": 21,
   "id": "7d429222-59a9-4e54-a21e-4ef811113c5e",
   "metadata": {},
   "outputs": [
    {
     "name": "stdout",
     "output_type": "stream",
     "text": [
      "Naive Bayes (Gaussian) Accuracy: 0.7832\n"
     ]
    }
   ],
   "source": [
    "from sklearn.naive_bayes import GaussianNB\n",
    "\n",
    "# Initializing\n",
    "nb = GaussianNB()\n",
    "\n",
    "nb.fit(X_train, y_train)\n",
    "\n",
    "# Prediction\n",
    "y_pred_nb = nb.predict(X_test)\n",
    "\n",
    "acc_nb = accuracy_score(y_test, y_pred_nb)\n",
    "print(\"Naive Bayes (Gaussian) Accuracy:\", round(acc_nb, 4))"
   ]
  },
  {
   "cell_type": "code",
   "execution_count": 22,
   "id": "40d256ae-fcc1-45e1-ad0a-a27b16463852",
   "metadata": {},
   "outputs": [
    {
     "name": "stdout",
     "output_type": "stream",
     "text": [
      "\n",
      "Classification Report:\n",
      "               precision    recall  f1-score   support\n",
      "\n",
      "           1       0.89      0.78      0.83       307\n",
      "           2       1.00      0.90      0.95       141\n",
      "           3       0.86      0.91      0.88       272\n",
      "           4       0.46      0.58      0.51       125\n",
      "           5       0.56      0.72      0.63       141\n",
      "           7       0.85      0.73      0.78       301\n",
      "\n",
      "    accuracy                           0.78      1287\n",
      "   macro avg       0.77      0.77      0.76      1287\n",
      "weighted avg       0.81      0.78      0.79      1287\n",
      "\n",
      "\n",
      "Confusion Matrix:\n",
      " [[239   0  13   0  55   0]\n",
      " [  4 127   0   2   7   1]\n",
      " [  4   0 248  19   0   1]\n",
      " [  0   0  26  73   3  23]\n",
      " [ 22   0   0   2 102  15]\n",
      " [  1   0   3  64  14 219]]\n"
     ]
    }
   ],
   "source": [
    "print(\"\\nClassification Report:\\n\", classification_report(y_test, y_pred_nb))\n",
    "print(\"\\nConfusion Matrix:\\n\", confusion_matrix(y_test, y_pred_nb))"
   ]
  },
  {
   "cell_type": "markdown",
   "id": "16c55f61-8dca-4000-a2e2-a4cb66d80a9f",
   "metadata": {},
   "source": [
    "### 6. Support Vector Machine(SVM)\n",
    "- kernel='rbf': default and most widely used that captures non-linear relationships.\n",
    "\n",
    "- probability=True: enables predict_proba() method that is required for ROC & PRC.\n",
    "\n",
    "- SVMs can take longer to train, but they’re very powerful and often achieve good accuracy on this dataset."
   ]
  },
  {
   "cell_type": "code",
   "execution_count": 23,
   "id": "20e05d13-009b-4344-9a0a-17eade655e2a",
   "metadata": {},
   "outputs": [
    {
     "name": "stdout",
     "output_type": "stream",
     "text": [
      "SVM Accuracy: 0.8928\n"
     ]
    }
   ],
   "source": [
    "from sklearn.svm import SVC\n",
    "\n",
    "# Initializing\n",
    "svm_model = SVC(kernel='rbf', probability=True, random_state=42)\n",
    "\n",
    "svm_model.fit(X_train, y_train)\n",
    "\n",
    "# Prediction\n",
    "y_pred_svm = svm_model.predict(X_test)\n",
    "\n",
    "acc_svm = accuracy_score(y_test, y_pred_svm)\n",
    "print(\"SVM Accuracy:\", round(acc_svm, 4))"
   ]
  },
  {
   "cell_type": "code",
   "execution_count": 24,
   "id": "b9cc2ca5-f424-47eb-a9c8-077d5d076aef",
   "metadata": {},
   "outputs": [
    {
     "name": "stdout",
     "output_type": "stream",
     "text": [
      "\n",
      "Classification Report:\n",
      "               precision    recall  f1-score   support\n",
      "\n",
      "           1       0.95      0.99      0.97       307\n",
      "           2       0.97      0.96      0.97       141\n",
      "           3       0.86      0.94      0.90       272\n",
      "           4       0.65      0.60      0.62       125\n",
      "           5       0.94      0.84      0.89       141\n",
      "           7       0.90      0.86      0.88       301\n",
      "\n",
      "    accuracy                           0.89      1287\n",
      "   macro avg       0.88      0.87      0.87      1287\n",
      "weighted avg       0.89      0.89      0.89      1287\n",
      "\n",
      "\n",
      "Confusion Matrix:\n",
      " [[304   0   3   0   0   0]\n",
      " [  0 136   0   2   2   1]\n",
      " [  3   2 257   9   0   1]\n",
      " [  0   0  30  75   1  19]\n",
      " [ 14   1   0   0 119   7]\n",
      " [  0   1   8  30   4 258]]\n"
     ]
    }
   ],
   "source": [
    "print(\"\\nClassification Report:\\n\", classification_report(y_test, y_pred_svm))\n",
    "print(\"\\nConfusion Matrix:\\n\", confusion_matrix(y_test, y_pred_svm))"
   ]
  },
  {
   "cell_type": "markdown",
   "id": "19f75dfb-83b5-4d30-8e9a-5b70555728ea",
   "metadata": {},
   "source": [
    "## Baseline Evaluation"
   ]
  },
  {
   "cell_type": "code",
   "execution_count": 28,
   "id": "e3e3e108-c637-415c-b53d-f5b76065acd4",
   "metadata": {},
   "outputs": [],
   "source": [
    "from sklearn.metrics import f1_score"
   ]
  },
  {
   "cell_type": "code",
   "execution_count": 29,
   "id": "78daa96a-9856-4eed-8977-dcec31a64d1d",
   "metadata": {},
   "outputs": [
    {
     "name": "stdout",
     "output_type": "stream",
     "text": [
      "Baseline Evaluation Results:\n",
      "\n",
      "KNN                    | Accuracy: 0.9114 | Weighted F1: 0.9094\n",
      "Decision Tree          | Accuracy: 0.8469 | Weighted F1: 0.8481\n",
      "Dummy Classifier       | Accuracy: 0.2385 | Weighted F1: 0.0919\n",
      "Logistic Regression    | Accuracy: 0.8493 | Weighted F1: 0.8421\n",
      "Naive Bayes            | Accuracy: 0.7832 | Weighted F1: 0.7901\n",
      "SVM                    | Accuracy: 0.8928 | Weighted F1: 0.8913\n"
     ]
    }
   ],
   "source": [
    "# Combine all trained models\n",
    "models = [\n",
    "    ('KNN', knn),\n",
    "    ('Decision Tree', dt),\n",
    "    ('Dummy Classifier', dummy),\n",
    "    ('Logistic Regression', log_reg),\n",
    "    ('Naive Bayes', nb),\n",
    "    ('SVM', svm_model)\n",
    "]\n",
    "\n",
    "print(\"Baseline Evaluation Results:\\n\")\n",
    "for name, model in models:\n",
    "    y_pred = model.predict(X_test)\n",
    "    acc = accuracy_score(y_test, y_pred)\n",
    "    f1 = f1_score(y_test, y_pred, average='weighted')\n",
    "    print(f\"{name:22s} | Accuracy: {acc:.4f} | Weighted F1: {f1:.4f}\")"
   ]
  },
  {
   "cell_type": "markdown",
   "id": "531dd62a-a255-46ef-aa22-b2a3c84faebb",
   "metadata": {},
   "source": [
    "#### Observation\n",
    "- From the baseline results, I noticed that the <u>\"Dummy Classifier performed the worst\"</u>, which was expected since it only predicts based on class priors. It's accuracy was very low at 0.2385, and the weighted F1-score was also poor.\n",
    "\n",
    "- Among the remaining models, Naive Bayes and Decision Tree gave moderate results compared to others.\n",
    "\n",
    "- Models like <u>\"KNN, SVM, and Logistic Regression performed much better\"</u>, with KNN showing the highest accuracy and F1-score overall.\n",
    "\n",
    "- This shows that distance-based models like KNN and SVM are able to capture the class boundaries more effectively for this dataset."
   ]
  },
  {
   "cell_type": "markdown",
   "id": "4c80e7c3-548c-4a86-8d9a-f88f30c217e8",
   "metadata": {},
   "source": [
    "# Part B\n",
    "## ROC Analysis for Model Selection\n",
    "\n",
    "### Multi-Class ROC Calculation\n",
    "- ### Explanation about One-vs-Rest (OvR)\n",
    "    - From what I understood, the ROC curve is normally used for binary classification to show how well a model separates positive and negative classes by plotting the True Positive Rate (TPR) against the False Positive Rate (FPR) at different thresholds. But since our dataset has six different land cover classes, it becomes a multi-class problem, so we can’t directly plot one single ROC curve.\n",
    "\n",
    "    - To handle this, I learned that the One-vs-Rest (OvR) approach is commonly used. In this method, each class is treated as the “positive” class while all the remaining classes together form the “negative” group. So, for six classes, six separate binary ROC curves are created — one for each class.\n",
    "\n",
    "    - For each of these curves, the model calculates the TPR and FPR based on predicted probabilities, and then we find the Area Under the Curve (AUC) for that class. Finally, the AUC values from all classes are averaged (either macro or weighted) to represent the overall ROC performance for the model.\n",
    "\n",
    "    - I felt this method was quite intuitive because it helps to understand how the model performs for every individual class, not just the overall accuracy. Especially in datasets like Landsat, where some classes might overlap or be harder to separate, this approach gives a much clearer picture of how well the model is distinguishing each land cover type."
   ]
  },
  {
   "cell_type": "code",
   "execution_count": 39,
   "id": "5b981dfc-f7c2-46fc-af5d-a00282acac66",
   "metadata": {},
   "outputs": [
    {
     "data": {
      "image/png": "[encoded data removed]",
      "text/plain": [
       "<Figure size 800x600 with 1 Axes>"
      ]
     },
     "metadata": {},
     "output_type": "display_data"
    }
   ],
   "source": [
    "# Converting test labels into binary format for One-vs-Rest ROC\n",
    "\n",
    "y_test_bin = label_binarize(y_test, classes=np.unique(y_test))\n",
    "n_classes = y_test_bin.shape[1]\n",
    "\n",
    "plt.figure(figsize=(8, 6))\n",
    "\n",
    "for name, model in models:\n",
    "    try:\n",
    "        y_score = model.predict_proba(X_test)\n",
    "    except:\n",
    "        y_score = model.decision_function(X_test)\n",
    "    \n",
    "    # Computing macro-average ROC curve\n",
    "    fpr, tpr, _ = roc_curve(y_test_bin.ravel(), y_score.ravel())\n",
    "    roc_auc = auc(fpr, tpr)\n",
    "\n",
    "    plt.plot(fpr, tpr, lw=2, label=f\"{name} (AUC = {roc_auc:.3f})\")\n",
    "\n",
    "# Adding Random guess reference line\n",
    "plt.plot([0, 1], [0, 1], 'k--', lw=1.2, label='Random Guess')\n",
    "\n",
    "# My plot code\n",
    "plt.title('ROC Curves for All Models (One-vs-Rest)')\n",
    "plt.xlabel('False Positive Rate')\n",
    "plt.ylabel('True Positive Rate')\n",
    "plt.legend(loc='lower right')\n",
    "plt.grid(alpha=0.3)\n",
    "plt.tight_layout()\n",
    "plt.show()"
   ]
  },
  {
   "cell_type": "code",
   "execution_count": 30,
   "id": "b7021363-b971-4316-9f96-ac7509eb36fb",
   "metadata": {},
   "outputs": [],
   "source": [
    "from sklearn.metrics import roc_auc_score"
   ]
  },
  {
   "cell_type": "markdown",
   "id": "a9fd2355-5f83-4676-bac0-01bcdccd22a5",
   "metadata": {},
   "source": [
    "- From the below results, I observed that KNN, SVM, and Logistic Regression performed the best, with AUC values close to 1.\n",
    "  \n",
    "- These models clearly separate the classes well. Naive Bayes and Decision Tree gave moderate results, while the Dummy Classifier performed the worst with an AUC of 0.5, as expected.\n",
    "\n",
    "- Overall, KNN and SVM showed the strongest performance in distinguishing between the six land cover classes."
   ]
  },
  {
   "cell_type": "code",
   "execution_count": 34,
   "id": "1415a79f-203f-4f9a-93d9-88e7fee96735",
   "metadata": {},
   "outputs": [
    {
     "name": "stdout",
     "output_type": "stream",
     "text": [
      "Multi-Class ROC-AUC (One-vs-Rest) Results:\n",
      "\n",
      "KNN                  | ROC-AUC (OvR): 0.9842\n",
      "Decision Tree        | ROC-AUC (OvR): 0.9077\n",
      "Dummy Classifier     | ROC-AUC (OvR): 0.5000\n",
      "Logistic Regression  | ROC-AUC (OvR): 0.9775\n",
      "Naive Bayes          | ROC-AUC (OvR): 0.9540\n",
      "SVM                  | ROC-AUC (OvR): 0.9838\n"
     ]
    }
   ],
   "source": [
    "print(\"Multi-Class ROC-AUC (One-vs-Rest) Results:\\n\")\n",
    "\n",
    "for name, model in models:\n",
    "    try:\n",
    "        y_proba = model.predict_proba(X_test)\n",
    "    except:\n",
    "        y_proba = model.decision_function(X_test)\n",
    "\n",
    "    # ROC-AUC score in multi-class (One-vs-Rest)\n",
    "    auc_score = roc_auc_score(y_test, y_proba, multi_class='ovr', average='weighted')\n",
    "    print(f\"{name:20s} | ROC-AUC (OvR): {auc_score:.4f}\")"
   ]
  },
  {
   "cell_type": "markdown",
   "id": "6744c77f-b2b3-4c75-9af2-c53efd9a8211",
   "metadata": {},
   "source": [
    "### Plotting ROC\n",
    "- From the ROC plot, we can see that KNN, Logistic Regression, and SVM performed almost perfectly with AUC values close to 1.\n",
    "\n",
    "- This means they have a very high ability to distinguish between the classes. Naive Bayes and Decision Tree also performed quite well but are slightly lower compared to the top models.\n",
    "\n",
    "- The Dummy Classifier performed poorly with a low AUC of 0.61, which is almost close to random guessing.\n",
    "\n",
    "- Overall, KNN and SVM seem to be the most reliable models for this dataset."
   ]
  },
  {
   "cell_type": "code",
   "execution_count": 38,
   "id": "4e8edc69-40ca-4746-b1b0-baff6374a6cd",
   "metadata": {},
   "outputs": [],
   "source": [
    "from sklearn.preprocessing import label_binarize\n",
    "from sklearn.metrics import roc_curve, auc"
   ]
  },
  {
   "cell_type": "code",
   "execution_count": 41,
   "id": "94f5ece3-a2b1-4165-8788-3de87cee99c9",
   "metadata": {},
   "outputs": [
    {
     "name": "stdout",
     "output_type": "stream",
     "text": [
      "Macro-Averaged ROC-AUC (One-vs-Rest) Results:\n",
      "\n",
      "KNN                  | Macro-Averaged AUC: 0.9802\n",
      "Decision Tree        | Macro-Averaged AUC: 0.8952\n",
      "Dummy Classifier     | Macro-Averaged AUC: 0.5000\n",
      "Logistic Regression  | Macro-Averaged AUC: 0.9720\n",
      "Naive Bayes          | Macro-Averaged AUC: 0.9473\n",
      "SVM                  | Macro-Averaged AUC: 0.9797\n"
     ]
    },
    {
     "data": {
      "image/png": "[encoded data removed]",
      "text/plain": [
       "<Figure size 800x600 with 1 Axes>"
      ]
     },
     "metadata": {},
     "output_type": "display_data"
    }
   ],
   "source": [
    "y_test_bin = label_binarize(y_test, classes=np.unique(y_test))\n",
    "n_classes = y_test_bin.shape[1]\n",
    "\n",
    "plt.figure(figsize=(8, 6))\n",
    "\n",
    "print(\"Macro-Averaged ROC-AUC (One-vs-Rest) Results:\\n\")\n",
    "\n",
    "for name, model in models:\n",
    "    try:\n",
    "        y_score = model.predict_proba(X_test)\n",
    "    except:\n",
    "        y_score = model.decision_function(X_test)\n",
    "    \n",
    "    # Computing macro-average ROC curve and AUC\n",
    "    fpr, tpr, _ = roc_curve(y_test_bin.ravel(), y_score.ravel())\n",
    "    roc_auc = auc(fpr, tpr)\n",
    "    \n",
    "    auc_macro = roc_auc_score(y_test, y_score, multi_class='ovr', average='macro')\n",
    "    print(f\"{name:20s} | Macro-Averaged AUC: {auc_macro:.4f}\")\n",
    "    \n",
    "    plt.plot(fpr, tpr, lw=2, label=f\"{name} (AUC = {roc_auc:.3f})\")\n",
    "\n",
    "# Adding Random guess reference line\n",
    "plt.plot([0, 1], [0, 1], 'k--', lw=1.2, label='Random Guess')\n",
    "\n",
    "# My plot code\n",
    "plt.title('ROC Curves for All Models (One-vs-Rest)')\n",
    "plt.xlabel('False Positive Rate')\n",
    "plt.ylabel('True Positive Rate')\n",
    "plt.legend(loc='lower right')\n",
    "plt.grid(alpha=0.3)\n",
    "plt.tight_layout()\n",
    "plt.show()"
   ]
  },
  {
   "cell_type": "markdown",
   "id": "2658d2fb-e850-4e68-8582-f7fbd32d0a25",
   "metadata": {},
   "source": [
    "###  ROC Interpretation\n",
    "\n",
    "(a) **Model with the Highest Macro-Averaged AUC:**\n",
    "\n",
    "- From the results, I observed that the K-Nearest Neighbors (KNN) model gave the highest Macro-Averaged AUC of 0.9802. \n",
    "    \n",
    "- This shows that the KNN model could clearly separate the different land cover classes better than the other models. \n",
    "    \n",
    "- I also noticed that the SVM model came very close to KNN, but still KNN performed slightly better overall.\n",
    "\n",
    "(b) **Model with AUC < 0.5**:\n",
    "\n",
    "- When I checked the results, I found that none of the models had an AUC below 0.5.\n",
    "\n",
    "- However, the Dummy Classifier had an AUC exactly equal to 0.5, which means it performs no better than random guessing.\n",
    "\n",
    "- This indicates that it doesn’t learn any meaningful patterns from the data and simply predicts based on class distribution or a fixed rule.\n",
    "\n",
    "- **So what AUC < 0.5 implies:**\n",
    "  \n",
    "    - Conceptually, if a model has an AUC less than 0.5, it means it is performing worse than random guessing, it’s predicting the wrong class more often than not.\n",
    "      \n",
    "    - This can happen if the model’s decision boundary is flipped, or if it has learned the patterns in the opposite direction (for example, predicting positive as negative).\n",
    " \n",
    "    - Sometimes this can occur due to <u>labeling errors, imbalanced data, or a poorly fitted model</u> that misunderstood the relationship between features and labels."
   ]
  },
  {
   "cell_type": "markdown",
   "id": "f5223d12-76c1-461e-89e3-368363e0969d",
   "metadata": {},
   "source": [
    "# Part C\n",
    "\n",
    "## Precision-Recall Curve (PRC) Analysis"
   ]
  },
  {
   "cell_type": "markdown",
   "id": "1df00454-0e61-4000-b080-df10b627c1bf",
   "metadata": {},
   "source": [
    "### PRC Calculation\n",
    "\n",
    "=> From the Precision-Recall Curve (PRC), I understood that it becomes more useful than the ROC curve, especially when dealing with imbalanced datasets. \n",
    "\n",
    "=> This is because the **PRC focuses only on the positive class** , it measures how precise the model’s positive predictions are (Precision) and how many actual positives are correctly identified (Recall).\n",
    "\n",
    "\n",
    "=> In contrast, the **ROC curve considers both true positives and true negatives**, which can give an overly optimistic view of performance when the negative class dominates. Even a weak model can show a high ROC-AUC in such cases simply because it correctly predicts most negatives.\n",
    "\n",
    "\n",
    "=> So, I realized that the PRC gives a clearer picture of how well the model detects the minority (positive) class, making it a more meaningful evaluation metric when class imbalance exists, even if it’s only moderate in this dataset."
   ]
  },
  {
   "cell_type": "markdown",
   "id": "3c4b8c98-86bc-411f-9181-7caec60b1ad3",
   "metadata": {},
   "source": [
    "### Plotting PRC \n",
    "\n",
    "- From the plot,\n",
    "    > KNN, SVM, and Logistic Regression models are the most reliable in this dataset based on their PRC performance"
   ]
  },
  {
   "cell_type": "code",
   "execution_count": 43,
   "id": "533e4492-29dc-459d-b6ed-dadf6702749b",
   "metadata": {},
   "outputs": [],
   "source": [
    "from sklearn.metrics import precision_recall_curve, average_precision_score"
   ]
  },
  {
   "cell_type": "code",
   "execution_count": 47,
   "id": "530f4c34-2635-4581-b2f6-3fdd144550f8",
   "metadata": {},
   "outputs": [
    {
     "name": "stdout",
     "output_type": "stream",
     "text": [
      "Macro-Averaged Precision-Recall (AP) Results:\n",
      "\n",
      "KNN                  | Average Precision (AP): 0.9215\n",
      "Decision Tree        | Average Precision (AP): 0.7246\n",
      "Dummy Classifier     | Average Precision (AP): 0.1667\n",
      "Logistic Regression  | Average Precision (AP): 0.8638\n",
      "Naive Bayes          | Average Precision (AP): 0.7859\n",
      "SVM                  | Average Precision (AP): 0.8996\n"
     ]
    },
    {
     "data": {
      "image/png": "[encoded data removed]",
      "text/plain": [
       "<Figure size 800x600 with 1 Axes>"
      ]
     },
     "metadata": {},
     "output_type": "display_data"
    }
   ],
   "source": [
    "y_test_bin = label_binarize(y_test, classes=np.unique(y_test))\n",
    "n_classes = y_test_bin.shape[1]\n",
    "\n",
    "plt.figure(figsize=(8, 6))\n",
    "\n",
    "print(\"Macro-Averaged Precision-Recall (AP) Results:\\n\")\n",
    "for name, ap in prc_scores.items():\n",
    "    print(f\"{name:20s} | Average Precision (AP): {ap:.4f}\")\n",
    "\n",
    "# Dictionary to store PRC results\n",
    "prc_scores = {}\n",
    "\n",
    "for name, model in models:\n",
    "    try:\n",
    "        y_score = model.predict_proba(X_test)\n",
    "    except:\n",
    "        y_score = model.decision_function(X_test)\n",
    "\n",
    "    # Precision-Recall for each class\n",
    "    precision = dict()\n",
    "    recall = dict()\n",
    "    average_precision = dict()\n",
    "\n",
    "    for i in range(n_classes):\n",
    "        precision[i], recall[i], _ = precision_recall_curve(y_test_bin[:, i], y_score[:, i])\n",
    "        average_precision[i] = average_precision_score(y_test_bin[:, i], y_score[:, i])\n",
    "\n",
    "    # macro-average Precision and Recall\n",
    "    all_precision = np.unique(np.concatenate([precision[i] for i in range(n_classes)]))\n",
    "    mean_recall = np.zeros_like(all_precision)\n",
    "\n",
    "    for i in range(n_classes):\n",
    "        mean_recall += np.interp(all_precision, precision[i][::-1], recall[i][::-1])\n",
    "\n",
    "    mean_recall /= n_classes\n",
    "    macro_ap = np.mean(list(average_precision.values()))\n",
    "    prc_scores[name] = macro_ap\n",
    "\n",
    "    # Ploting\n",
    "    plt.plot(mean_recall, all_precision, lw=2, label=f\"{name} (AP = {macro_ap:.3f})\")\n",
    "\n",
    "plt.plot([0, 1], [0.5, 0.5], 'k--', lw=1.2, label='Random Guess')\n",
    "\n",
    "plt.title(\"Precision-Recall Curves for All Models (One-vs-Rest, Macro-Averaged)\")\n",
    "plt.xlabel(\"Recall\")\n",
    "plt.ylabel(\"Precision\")\n",
    "plt.legend(loc=\"upper left\")\n",
    "plt.grid(alpha=0.3)\n",
    "plt.tight_layout()\n",
    "plt.show()"
   ]
  },
  {
   "cell_type": "markdown",
   "id": "18887532-93a2-4e68-8f57-be24125af363",
   "metadata": {},
   "source": [
    "### PRC Interpretation\n",
    "\n",
    "(a) **Identify the model with the highest Average Precision (AP):**\n",
    "\n",
    "- When you see the results from above, we can clearly notice that the,\n",
    "    > <u>KNN model has the highest Average Precision (AP) of 0.921.</u>\n",
    "\n",
    "- This means that the KNN model consistently maintains high precision while also achieving good recall.\n",
    "\n",
    "- In other words, it is very good at identifying the positive classes correctly without producing too many false positives.\n",
    "\n",
    "- This shows that the KNN model has learned the patterns in the data effectively and can distinguish between different classes with high accuracy.\n",
    "\n",
    "(b) **Analyze the behavior of the worst-performing model’s PRC:**\n",
    "\n",
    "- From the plot,\n",
    "    > <u>The Dummy Classifier had the lowest AP value of 0.167, making it the worst-performing model.</u>\n",
    "\n",
    "- When we look at its PRC curve, we can notice that it drops sharply as recall increases.\n",
    "\n",
    "- As mentioned earlier, this happens because the model does not learn any meaningful relationship from the data and it predicts randomly.\n",
    "\n",
    "- As a result, when the recall (true positives identified) increases, the precision (accuracy of positive predictions) quickly decreases.\n",
    "\n",
    "    - **But why does the curve drop sharply as Recall increases for poor models?**\n",
    "\n",
    "       - For weak models, as the model tries to capture more true positives (increasing recall), it also starts predicting many false positives.\n",
    "\n",
    "        - Since precision measures how many of the predicted positives are actually correct, these extra false positives cause precision to fall quickly.\n",
    "\n",
    "        - So, as recall goes up, the model sacrifices accuracy in its positive predictions, leading to a sharp drop in the curve.\n",
    "     \n",
    "        - This behavior clearly shows that the model cannot distinguish between classes properly and is performing almost like random guessing."
   ]
  },
  {
   "cell_type": "markdown",
   "id": "7ff58eb3-f35f-40c1-842d-55923967500f",
   "metadata": {},
   "source": [
    "# Part D\n",
    "\n",
    "## Final Recommendation"
   ]
  },
  {
   "cell_type": "markdown",
   "id": "ec4733b1-6f5f-41cc-a720-e424dcdf6250",
   "metadata": {},
   "source": [
    "### Synthesis\n",
    "\n",
    "| Model              | Weighted F1 | ROC-AUC (OvR) | PRC-AP |\n",
    "|--------------------|-------------|----------------|---------|\n",
    "| KNN                | 0.9094      | 0.9842         | 0.9215  |\n",
    "| Decision Tree      | 0.8481      | 0.9077         | 0.7246  |\n",
    "| Dummy Classifier   | 0.0919      | 0.5000         | 0.1667  |\n",
    "| Logistic Regression| 0.8421      | 0.9775         | 0.8638  |\n",
    "| Naive Bayes        | 0.7901      | 0.9540         | 0.7859  |\n",
    "| SVM                | 0.8913      | 0.9838         | 0.8996  |\n"
   ]
  },
  {
   "cell_type": "markdown",
   "id": "2b760192-dc09-4618-af70-283109b55987",
   "metadata": {},
   "source": [
    "#### Comparision F1-Score vs ROC-AUC vs PRC-AP results\n",
    "\n",
    "- From the the model rankings results, I noticed that \"KNN and SVM consistently performed the best across all three metrics\".\n",
    " \n",
    "- Logistic Regression also showed stable performance, coming close to the top models.\n",
    "\n",
    "- However, Decision Tree and Naive Bayes performed moderately, while the Dummy Classifier performed the worst in all metrics.\n",
    "\n",
    "    - **Do the rankings align?**\n",
    "      > No\n",
    "\n",
    "      - The rankings don’t completely align across all three metrics. While the top and bottom models remain the same (KNN/SVM at the top and Dummy at the bottom), the middle models like Decision Tree, Logistic Regression, and Naive Bayes slightly change positions depending on the metric considered.\n",
    "\n",
    "**Specific trade-offs**\n",
    "\n",
    "*High ROC-AUC but Low PRC-AP:*\n",
    "- I noticed that a model can have a high ROC-AUC but still a low PRC-AP when it ranks predictions well overall but struggles with precision for minority classes, causing more false positives.\n",
    "\n",
    "*High F1 but Lower ROC-AUC:*\n",
    "- Sometimes a model gets a good F1-Score at one threshold but doesn’t maintain consistent performance across all thresholds, which lowers its ROC-AUC.\n",
    "\n",
    "*High ROC-AUC but Moderate F1:*\n",
    "- A model may rank predictions correctly (high ROC-AUC) but still give an average F1-Score if its default threshold misclassifies a few samples, reducing balance between precision and recall."
   ]
  },
  {
   "cell_type": "markdown",
   "id": "9a4a2492-86f6-4322-9aa3-12e5450ce157",
   "metadata": {},
   "source": [
    "## Recommendation\n",
    "- Based on all the analyses, \n",
    "  > I would recommend the **K-Nearest Neighbors (KNN) model** as the best overall performer for this classification task.\n",
    "\n",
    "### Why I Chose KNN\n",
    "\n",
    "#### 1. **Strong Overall Performance**\n",
    "\n",
    "KNN performs consistently well across all key metrics:\n",
    "\n",
    "* **Weighted F1: 0.9094** – best balance of precision and recall\n",
    "* **ROC-AUC: 0.9842** – excellent class separation (tied with SVM)\n",
    "* **PRC-AP: 0.9215** – strongest precision-recall tradeoff\n",
    "\n",
    "#### 2. **Curve Analysis**\n",
    "\n",
    "* The **ROC curve** rises sharply with minimal false positives, staying close to the top-left corner.\n",
    "* The **PR curve** remains high and stable, showing reliable performance across thresholds.\n",
    "\n",
    "#### 3. **Practical Advantages**\n",
    "\n",
    "* **Flexible thresholds:** Works well whether I need high precision or high recall.\n",
    "* **Handles class imbalance effectively:** Performs better for underrepresented land types like water or urban areas.\n",
    "\n",
    "#### 4. **Second-Best Model (SVM)**\n",
    "\n",
    "SVM is a close runner-up, with similar ROC-AUC but slightly lower F1 (0.8913) and PRC-AP (0.8996). I’d pick SVM if faster prediction time or theoretical decision boundaries were more important.\n",
    "\n",
    "#### 5. **Final Decision**\n",
    "\n",
    "I recommend **KNN** because it offers the best balance of precision, recall, and overall reliability for real-world land cover mapping using Landsat data."
   ]
  },
  {
   "cell_type": "markdown",
   "id": "e1872bc5-1fd0-4b08-ab07-a4e2c67f44ad",
   "metadata": {},
   "source": [
    "## Brownie Points Task\n",
    "\n",
    "####  Random Forest Classifier"
   ]
  },
  {
   "cell_type": "code",
   "execution_count": 48,
   "id": "46de76ea-66bd-43a7-ac70-32bd34ae71de",
   "metadata": {},
   "outputs": [],
   "source": [
    "from sklearn.ensemble import RandomForestClassifier"
   ]
  },
  {
   "cell_type": "code",
   "execution_count": 50,
   "id": "8361a2b4-aa12-48fa-b509-bd737b36dbea",
   "metadata": {},
   "outputs": [
    {
     "name": "stdout",
     "output_type": "stream",
     "text": [
      "Random Forest Classifier Results:\n",
      "Accuracy: 0.9091\n",
      "Weighted F1 Score: 0.9058\n",
      "ROC-AUC Score: 0.9865\n",
      "PRC-AP Score: 0.9517\n"
     ]
    }
   ],
   "source": [
    "# Initializing the model and training it\n",
    "rf_model = RandomForestClassifier(random_state=42)\n",
    "rf_model.fit(X_train, y_train)\n",
    "\n",
    "rf_preds = rf_model.predict(X_test)\n",
    "rf_probs = rf_model.predict_proba(X_test)\n",
    "\n",
    "rf_accuracy = accuracy_score(y_test, rf_preds)\n",
    "rf_f1 = f1_score(y_test, rf_preds, average='weighted')\n",
    "rf_auc = roc_auc_score(y_test, rf_probs, multi_class='ovr')\n",
    "rf_prc = average_precision_score(y_test, rf_probs, average='weighted')\n",
    "\n",
    "print(\"Random Forest Classifier Results:\")\n",
    "print(f\"Accuracy: {rf_accuracy:.4f}\")\n",
    "print(f\"Weighted F1 Score: {rf_f1:.4f}\")\n",
    "print(f\"ROC-AUC Score: {rf_auc:.4f}\")\n",
    "print(f\"PRC-AP Score: {rf_prc:.4f}\")"
   ]
  },
  {
   "cell_type": "markdown",
   "id": "0042826e-79f7-4207-8da5-808b9e1f844e",
   "metadata": {},
   "source": [
    "#### XGBoost classifier\n",
    "- Since XGBoost automatically assumes there are 6 classes (0–5), but our data actually has 6 classes labeled as [1, 2, 3, 4, 5, 7] and XGBoost needs labels numbered from 0 to (n_classes - 1)\n",
    "\n",
    "- So I'm here using LabelEncoder."
   ]
  },
  {
   "cell_type": "code",
   "execution_count": 57,
   "id": "55ccf0e8-c201-4609-b223-5381a081ddfa",
   "metadata": {},
   "outputs": [],
   "source": [
    "from xgboost import XGBClassifier\n",
    "from sklearn.preprocessing import LabelEncoder"
   ]
  },
  {
   "cell_type": "code",
   "execution_count": 58,
   "id": "fba36b64-9d9a-4a34-b328-2bf8a14ec1a0",
   "metadata": {},
   "outputs": [],
   "source": [
    "le = LabelEncoder()\n",
    "y_train_enc = le.fit_transform(y_train)\n",
    "y_test_enc = le.transform(y_test)"
   ]
  },
  {
   "cell_type": "code",
   "execution_count": 61,
   "id": "342f7056-3ad6-4062-b75f-cedbdc83115c",
   "metadata": {},
   "outputs": [
    {
     "name": "stdout",
     "output_type": "stream",
     "text": [
      "XGBoost Classifier Results:\n",
      "Accuracy: 0.9192\n",
      "Weighted F1 Score: 0.9171\n",
      "ROC-AUC Score: 0.9910\n",
      "PRC-AP Score: 0.9598\n"
     ]
    }
   ],
   "source": [
    "xgb_model = XGBClassifier(eval_metric='logloss', random_state=42, use_label_encoder=False)\n",
    "xgb_model.fit(X_train, y_train_enc)\n",
    "\n",
    "xgb_preds = xgb_model.predict(X_test)\n",
    "xgb_probs = xgb_model.predict_proba(X_test)\n",
    "xgb_ac = accuracy_score(y_test_enc, xgb_preds)\n",
    "xgb_f1 = f1_score(y_test_enc, xgb_preds, average='weighted')\n",
    "\n",
    "# ROC-AUC \n",
    "y_test_bin = label_binarize(y_test_enc, classes=np.arange(len(le.classes_)))\n",
    "xgb_auc = roc_auc_score(y_test_bin, xgb_probs, multi_class='ovr', average='weighted')\n",
    "\n",
    "# PRC-AP \n",
    "xgb_prc = average_precision_score(y_test_bin, xgb_probs, average='weighted')\n",
    "\n",
    "print(\"XGBoost Classifier Results:\")\n",
    "print(f\"Accuracy: {xgb_ac:.4f}\")\n",
    "print(f\"Weighted F1 Score: {xgb_f1:.4f}\")\n",
    "print(f\"ROC-AUC Score: {xgb_auc:.4f}\")\n",
    "print(f\"PRC-AP Score: {xgb_prc:.4f}\")"
   ]
  },
  {
   "cell_type": "markdown",
   "id": "cad61dd4-7e2a-4579-a5fc-429e9f7c62e2",
   "metadata": {},
   "source": [
    "### My choice of models whose AUC < 0.5\n",
    "- I identified and experimented with two other model classes whose AUC < 0.5. They are,\n",
    "    > Inverted Classifier\n",
    "    \n",
    "    > Worst-Case KNN"
   ]
  },
  {
   "cell_type": "markdown",
   "id": "28903d65-0dfe-4219-a855-e92892698cd9",
   "metadata": {},
   "source": [
    "#### Inverted Classifier"
   ]
  },
  {
   "cell_type": "code",
   "execution_count": 72,
   "id": "08aa7907-1f6f-4d4b-a8a2-2786d2a7315d",
   "metadata": {},
   "outputs": [
    {
     "name": "stdout",
     "output_type": "stream",
     "text": [
      "Inverted Logistic Regression Results:\n",
      "Accuracy: 0.0420\n",
      "Weighted F1 Score: 0.0372\n",
      "ROC-AUC Score: 0.5480\n",
      "PRC-AP Score: 0.1905\n"
     ]
    }
   ],
   "source": [
    "base_probs = log_reg.predict_proba(X_test)\n",
    "\n",
    "# Inverting the probabilities by reversing the column order\n",
    "inverted_probs = base_probs[:, ::-1]\n",
    "inverted_preds = log_reg.classes_[np.argmax(inverted_probs, axis=1)]\n",
    "\n",
    "inverted_accuracy = accuracy_score(y_test, inverted_preds)\n",
    "inverted_f1 = f1_score(y_test, inverted_preds, average='weighted')\n",
    "inverted_auc = roc_auc_score(y_test, inverted_probs, multi_class='ovr')\n",
    "inverted_prc = average_precision_score(y_test, inverted_probs, average='weighted')\n",
    "\n",
    "print(\"Inverted Logistic Regression Results:\")\n",
    "print(f\"Accuracy: {inverted_accuracy:.4f}\")\n",
    "print(f\"Weighted F1 Score: {inverted_f1:.4f}\")\n",
    "print(f\"ROC-AUC Score: {inverted_auc:.4f}\")  # Should be < 0.5\n",
    "print(f\"PRC-AP Score: {inverted_prc:.4f}\")"
   ]
  },
  {
   "cell_type": "code",
   "execution_count": 74,
   "id": "b7474f96-12ba-45f3-8d56-cff5c4719550",
   "metadata": {},
   "outputs": [
    {
     "name": "stdout",
     "output_type": "stream",
     "text": [
      "Comparison:\n",
      "Normal Logistic Regression AUC: 0.9720\n",
      "Inverted Logistic Regression AUC: 0.5480\n",
      "Sum of both AUCs: 1.5200\n",
      "\n",
      "The inverted model performs 0.4240 worse than normal\n"
     ]
    }
   ],
   "source": [
    "# Comparing with normal model\n",
    "print(\"Comparison:\")\n",
    "normal_auc = roc_auc_score(y_test, base_probs, multi_class='ovr')\n",
    "print(f\"Normal Logistic Regression AUC: {normal_auc:.4f}\")\n",
    "print(f\"Inverted Logistic Regression AUC: {inverted_auc:.4f}\")\n",
    "print(f\"Sum of both AUCs: {normal_auc + inverted_auc:.4f}\")\n",
    "print(f\"\\nThe inverted model performs {normal_auc - inverted_auc:.4f} worse than normal\")"
   ]
  },
  {
   "cell_type": "markdown",
   "id": "f08ffe75-9f4e-4738-92c8-90371fabb86a",
   "metadata": {},
   "source": [
    "#### Worst-Case KNN"
   ]
  },
  {
   "cell_type": "code",
   "execution_count": 67,
   "id": "52e9cbc9-3a74-4737-84f2-e593b21028b2",
   "metadata": {},
   "outputs": [],
   "source": [
    "from sklearn.neighbors import NearestNeighbors"
   ]
  },
  {
   "cell_type": "code",
   "execution_count": 75,
   "id": "b2b4b9cb-8d22-4a21-8a00-fcf411cb32cb",
   "metadata": {},
   "outputs": [
    {
     "name": "stdout",
     "output_type": "stream",
     "text": [
      "Worst-Case KNN Results:\n",
      "Accuracy: 0.0117\n",
      "Weighted F1 Score: 0.0043\n",
      "ROC-AUC Score: 0.4106\n",
      "PRC-AP Score: 0.1882\n"
     ]
    }
   ],
   "source": [
    "# Seting number of neighbors\n",
    "n_neighbors = 5\n",
    "\n",
    "nn_model = NearestNeighbors(n_neighbors=len(X_train))\n",
    "nn_model.fit(X_train)\n",
    "\n",
    "distances, indices = nn_model.kneighbors(X_test)\n",
    "furthest_indices = indices[:, -n_neighbors:]\n",
    "classes = np.unique(y_train)\n",
    "worst_probs = np.zeros((len(X_test), len(classes)))\n",
    "\n",
    "for i, neighbors in enumerate(furthest_indices):\n",
    "    neighbor_labels = y_train.iloc[neighbors].values\n",
    "\n",
    "    for label in neighbor_labels:\n",
    "        class_idx = np.where(classes == label)[0][0]\n",
    "        worst_probs[i, class_idx] += 1\n",
    "\n",
    "worst_probs = worst_probs / n_neighbors\n",
    "worst_preds = classes[np.argmax(worst_probs, axis=1)]\n",
    "worst_accuracy = accuracy_score(y_test, worst_preds)\n",
    "worst_f1 = f1_score(y_test, worst_preds, average='weighted')\n",
    "worst_auc = roc_auc_score(y_test, worst_probs, multi_class='ovr')\n",
    "worst_prc = average_precision_score(y_test, worst_probs, average='weighted')\n",
    "\n",
    "print(\"Worst-Case KNN Results:\")\n",
    "print(f\"Accuracy: {worst_accuracy:.4f}\")\n",
    "print(f\"Weighted F1 Score: {worst_f1:.4f}\")\n",
    "print(f\"ROC-AUC Score: {worst_auc:.4f}\")  \n",
    "print(f\"PRC-AP Score: {worst_prc:.4f}\")"
   ]
  },
  {
   "cell_type": "code",
   "execution_count": 76,
   "id": "7ee7e667-4f84-49ee-b4a8-c5c60cf3abf0",
   "metadata": {},
   "outputs": [
    {
     "name": "stdout",
     "output_type": "stream",
     "text": [
      "Comparison:\n",
      "Normal KNN Accuracy: 0.8928\n",
      "Worst-Case KNN Accuracy: 0.0117\n",
      "Difference: 0.8811\n",
      "\n",
      "Normal KNN AUC: 0.9802\n",
      "Worst-Case KNN AUC: 0.4106\n",
      "Difference: 0.5697\n",
      "\n",
      "The worst-case model uses the 5 furthest neighbors\n",
      "instead of the 5 nearest neighbors\n"
     ]
    }
   ],
   "source": [
    "# Comparing with normal KNN\n",
    "print(\"Comparison:\")\n",
    "normal_knn_probs = knn.predict_proba(X_test)\n",
    "normal_knn_auc = roc_auc_score(y_test, normal_knn_probs, multi_class='ovr')\n",
    "normal_knn_accuracy = accuracy_score(y_test, y_pred)  \n",
    "\n",
    "print(f\"Normal KNN Accuracy: {normal_knn_accuracy:.4f}\")\n",
    "print(f\"Worst-Case KNN Accuracy: {worst_accuracy:.4f}\")\n",
    "print(f\"Difference: {normal_knn_accuracy - worst_accuracy:.4f}\")\n",
    "\n",
    "print(f\"\\nNormal KNN AUC: {normal_knn_auc:.4f}\")\n",
    "print(f\"Worst-Case KNN AUC: {worst_auc:.4f}\")\n",
    "print(f\"Difference: {normal_knn_auc - worst_auc:.4f}\")\n",
    "\n",
    "print(f\"\\nThe worst-case model uses the {n_neighbors} furthest neighbors\")\n",
    "print(f\"instead of the {n_neighbors} nearest neighbors\")"
   ]
  },
  {
   "cell_type": "markdown",
   "id": "63c86541-cded-4ef2-9ac3-e0cc97209f48",
   "metadata": {},
   "source": [
    "## Summary\n",
    "- Throught this we can see that, the goal was to classify using different models for the Landsat Satellite dataset.\n",
    "\n",
    "- I trained several models and compared their results using ROC and Precision-Recall Curves in a one-vs-rest setting.\n",
    "\n",
    "- As I analyzed the curves, I noticed that some models struggled to clearly separate classes, while a few showed consistent patterns.\n",
    "\n",
    "- Among all, the KNN Classifier performed the best overall, followed closely by the XGBoost Classifier, which also gave strong and stable results.\n",
    "\n",
    "- Through this project, I learned the **importance of analyzing model behavior across different thresholds, especially in multi-class problems where accuracy alone can be misleading.**"
   ]
  },
  {
   "cell_type": "markdown",
   "id": "98877a7f-d5a9-4774-8f9e-f948204ce999",
   "metadata": {},
   "source": [
    "## Final Recommendation\n",
    "- From the visualizations and metrics, I realized that KNN captured the class boundaries more effectively than other models.\n",
    "  \n",
    "- It achieved smoother and higher ROC-AUC and PRC-AP scores, making it the top performer in this task.\n",
    "\n",
    "- XGBoost came very close, showing robust performance and good generalization across all classes.\n",
    "\n",
    "- Overall, I found that **KNN is best for this dataset, while XGBoost also stood out as a strong, second-best model.**"
   ]
  }
 ],
 "metadata": {
  "kernelspec": {
   "display_name": "Python 3 (ipykernel)",
   "language": "python",
   "name": "python3"
  },
  "language_info": {
   "codemirror_mode": {
    "name": "ipython",
    "version": 3
   },
   "file_extension": ".py",
   "mimetype": "text/x-python",
   "name": "python",
   "nbconvert_exporter": "python",
   "pygments_lexer": "ipython3",
   "version": "3.12.3"
  }
 },
 "nbformat": 4,
 "nbformat_minor": 5
}
